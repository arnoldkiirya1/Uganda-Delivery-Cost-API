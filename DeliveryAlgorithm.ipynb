{
  "nbformat": 4,
  "nbformat_minor": 0,
  "metadata": {
    "colab": {
      "provenance": []
    },
    "kernelspec": {
      "name": "python3",
      "display_name": "Python 3"
    },
    "language_info": {
      "name": "python"
    }
  },
  "cells": [
    {
      "cell_type": "code",
      "execution_count": null,
      "metadata": {
        "colab": {
          "base_uri": "https://localhost:8080/"
        },
        "id": "AyGzTF3Krk-G",
        "outputId": "e0f5c867-3abc-47e4-aa2c-bf1854178aa8"
      },
      "outputs": [
        {
          "output_type": "stream",
          "name": "stdout",
          "text": [
            "Requirement already satisfied: geopy in /usr/local/lib/python3.10/dist-packages (2.3.0)\n",
            "Requirement already satisfied: geographiclib<3,>=1.52 in /usr/local/lib/python3.10/dist-packages (from geopy) (2.0)\n"
          ]
        }
      ],
      "source": [
        "# importing libraries\n",
        "pip install geopy"
      ]
    },
    {
      "cell_type": "code",
      "source": [
        "import math\n",
        "from geopy.distance import geodesic\n",
        "\n",
        "# District data\n",
        "districts = {\n",
        "    \"WK\": {\"name\": \"Wakiso\", \"latitude\": 0.395800, \"longitude\": 32.479160},\n",
        "    \"TR\": {\"name\": \"Tororo\", \"latitude\": 0.694330, \"longitude\": 34.179499},\n",
        "    \"SRT\": {\"name\": \"Soroti\", \"latitude\": 1.714500, \"longitude\": 33.619461},\n",
        "    \"MK\": {\"name\": \"Mukono\", \"latitude\": 0.356610, \"longitude\": 32.752300},\n",
        "    \"MPG\": {\"name\": \"Mpigi\", \"latitude\": 0.231213, \"longitude\": 32.318724},\n",
        "    \"MBR\": {\"name\": \"Mbarara\", \"latitude\": -0.605675, \"longitude\": 30.648550},\n",
        "    \"MBL\": {\"name\": \"Mbale\", \"latitude\": 1.070940, \"longitude\": 34.179008},\n",
        "    \"MSK\": {\"name\": \"Masaka\", \"latitude\": -0.346950, \"longitude\": 31.739270},\n",
        "    \"LRA\": {\"name\": \"Lira\", \"latitude\": 2.235000, \"longitude\": 32.909722},\n",
        "    \"KSE\": {\"name\": \"Kasese\", \"latitude\": 0.169800, \"longitude\": 30.070000},\n",
        "    \"KLA\": {\"name\": \"Kampala\", \"latitude\": 0.322805, \"longitude\": 32.574841},\n",
        "    \"KBL\": {\"name\": \"Kabale\", \"latitude\": -1.241956, \"longitude\": 29.985616},\n",
        "    \"JJA\": {\"name\": \"Jinja\", \"latitude\": 0.424444, \"longitude\": 33.204167},\n",
        "    \"HMA\": {\"name\": \"Hoima\", \"latitude\": 1.430547, \"longitude\": 31.352270},\n",
        "    \"FRTP\": {\"name\": \"Fort Portal\", \"latitude\": 0.654626, \"longitude\": 30.280117},\n",
        "    \"BSA\": {\"name\": \"Busia\", \"latitude\": 0.467000, \"longitude\": 34.090000},\n",
        "    \"BSH\": {\"name\": \"Bushenyi\", \"latitude\": -0.542377, \"longitude\": 30.196452},\n",
        "    \"BGY\": {\"name\": \"Bundibugyo\", \"latitude\": 0.707531, \"longitude\": 30.063635},\n",
        "    \"AR\": {\"name\": \"Arua\", \"latitude\": 3.173538, \"longitude\": 31.309866},\n",
        "    \"NTG\": {\"name\": \"Ntungamo\", \"latitude\": -0.875076, \"longitude\": 30.265696},\n",
        "}\n",
        "\n",
        "# Risk factors\n",
        "risk_factors = {\n",
        "    \"BNP\": 1.15,  # Beans, nuts, pulses\n",
        "}\n",
        "\n",
        "# Delivery time risk factors\n",
        "time_risk_factors = {\n",
        "    \"48 HOUR\": 0.7,\n",
        "    \"5 days\": 0.65,\n",
        "    \"7 days\": 0.55,\n",
        "}\n",
        "\n",
        "# Cost calculation function\n",
        "def calculate_cost(weight, distance, risk_factor, time_risk_factor):\n",
        "    unit_cost_per_kg_per_km = 40 # This can chnage basing on the weight of the user.\n",
        "    weight_impact_cost = weight * distance * unit_cost_per_kg_per_km\n",
        "    total_cost = weight_impact_cost * risk_factor * time_risk_factor\n",
        "    return total_cost\n",
        "\n",
        "# Distance calculation function\n",
        "def calculate_distance(pickup_code, delivery_code):\n",
        "    pickup_coords = (districts[pickup_code]['latitude'], districts[pickup_code]['longitude'])\n",
        "    delivery_coords = (districts[delivery_code]['latitude'], districts[delivery_code]['longitude'])\n",
        "    return geodesic(pickup_coords, delivery_coords).km\n",
        "\n",
        "# User input\n",
        "pickup_code = input(\"Enter pickup district code: \").strip().upper()\n",
        "delivery_code = input(\"Enter delivery district code: \").strip().upper()\n",
        "weight = float(input(\"Enter weight in kg: \"))\n",
        "delivery_time = input(\"Enter delivery time (e.g., '48 HOUR', '5 days', '7 days'): \").strip()\n",
        "\n",
        "# Get risk factors\n",
        "risk_factor = risk_factors[\"BNP\"]  # Assuming Beans, nuts, pulses\n",
        "time_risk_factor = time_risk_factors[delivery_time]\n",
        "\n",
        "# Calculate distance\n",
        "distance = calculate_distance(pickup_code, delivery_code)\n",
        "\n",
        "# Calculate total cost\n",
        "total_cost = calculate_cost(weight, distance, risk_factor, time_risk_factor)\n",
        "\n",
        "print(f\"The total delivery cost from {districts[pickup_code]['name']} to {districts[delivery_code]['name']} is: {total_cost} for distance of {distance}\")\n",
        "\n"
      ],
      "metadata": {
        "colab": {
          "base_uri": "https://localhost:8080/"
        },
        "id": "Nnn0zr1jtZN5",
        "outputId": "ebaf0e3b-68be-4ad6-8e3e-270d0f5b9507"
      },
      "execution_count": null,
      "outputs": [
        {
          "output_type": "stream",
          "name": "stdout",
          "text": [
            "Enter pickup district code: FRTP\n",
            "Enter delivery district code: KLA\n",
            "Enter weight in kg: 2000\n",
            "Enter delivery time (e.g., '48 HOUR', '5 days', '7 days'): 5 days\n",
            "The total delivery cost from Fort Portal to Kampala is: 15431963.620292682 for distance of 258.0595923125867\n"
          ]
        }
      ]
    }
  ]
}